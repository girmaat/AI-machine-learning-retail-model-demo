{
 "cells": [
  {
   "cell_type": "code",
   "execution_count": null,
   "id": "c9f2e8c3-6883-4e61-9e58-c5e641d29f05",
   "metadata": {},
   "outputs": [],
   "source": [
    "# Data Clean up"
   ]
  },
  {
   "cell_type": "code",
   "execution_count": 1,
   "id": "9506243c-3a87-45a3-87ba-8c85eebb0fee",
   "metadata": {},
   "outputs": [],
   "source": [
    "import pandas as pd\n",
    "from sklearn.preprocessing import StandardScaler\n",
    "\n",
    "# Load dataset\n",
    "df = pd.read_csv(\"../data/raw/telco_churn.csv\")"
   ]
  },
  {
   "cell_type": "markdown",
   "id": "5df5fc0d-acef-4e6f-b39c-bb0b07caeff4",
   "metadata": {},
   "source": [
    "# Step 1: Drop Non-Predictive Columns"
   ]
  },
  {
   "cell_type": "code",
   "execution_count": 2,
   "id": "6de2fbf5-8bd7-43d0-a2c9-aa21ea942616",
   "metadata": {},
   "outputs": [],
   "source": [
    "df.drop(columns=['customerID'], inplace=True)"
   ]
  },
  {
   "cell_type": "markdown",
   "id": "bf136b83-2bab-49c6-ba0c-0184be018a62",
   "metadata": {},
   "source": [
    "# Step 2: Clean 'TotalCharges' values"
   ]
  },
  {
   "cell_type": "code",
   "execution_count": 3,
   "id": "aceb6ad9-b6ef-433e-b669-ef4e4852137d",
   "metadata": {},
   "outputs": [
    {
     "name": "stdout",
     "output_type": "stream",
     "text": [
      "Missing values in TotalCharges: 11\n"
     ]
    }
   ],
   "source": [
    "df['TotalCharges'] = pd.to_numeric(df['TotalCharges'], errors='coerce')\n",
    "missing_count = df['TotalCharges'].isnull().sum()\n",
    "print(f\"Missing values in TotalCharges: {missing_count}\")\n",
    "df.dropna(subset=['TotalCharges'], inplace=True)"
   ]
  },
  {
   "cell_type": "markdown",
   "id": "fc950431-d3fb-43f9-b45e-4fb48e3aa15c",
   "metadata": {},
   "source": [
    "# Step 3: Encode Target Variable (Churn)"
   ]
  },
  {
   "cell_type": "code",
   "execution_count": 4,
   "id": "f8928738-5f94-4551-b2c9-dd6f75316494",
   "metadata": {},
   "outputs": [],
   "source": [
    "df['Churn'] = df['Churn'].map({'Yes': 1, 'No': 0})"
   ]
  },
  {
   "cell_type": "markdown",
   "id": "17df494a-f321-4cd3-b7dd-a29cc8203ee9",
   "metadata": {},
   "source": [
    "# Step 4: One-Hot Encode Categorical Features"
   ]
  },
  {
   "cell_type": "code",
   "execution_count": 6,
   "id": "4ca09103-494c-47b7-8db5-671973098314",
   "metadata": {},
   "outputs": [],
   "source": [
    "categorical_cols = df.select_dtypes(include='object').columns.tolist()\n",
    "df = pd.get_dummies(df, columns=categorical_cols, drop_first=True)"
   ]
  },
  {
   "cell_type": "markdown",
   "id": "cb3f0e78-cc7c-4db7-b540-cd50b0c78bd9",
   "metadata": {},
   "source": [
    "# Step 5: Scale Numerical Features"
   ]
  },
  {
   "cell_type": "code",
   "execution_count": 7,
   "id": "7759f071-dace-49e2-9f47-8067c3e577c7",
   "metadata": {},
   "outputs": [],
   "source": [
    "scaler = StandardScaler()\n",
    "numerical_cols = ['tenure', 'MonthlyCharges', 'TotalCharges']\n",
    "df[numerical_cols] = scaler.fit_transform(df[numerical_cols])"
   ]
  },
  {
   "cell_type": "markdown",
   "id": "dbb29c5f-7e49-4ed9-9dda-e2b7747053ee",
   "metadata": {},
   "source": [
    "# Step 6: Save Cleaned Data"
   ]
  },
  {
   "cell_type": "code",
   "execution_count": 8,
   "id": "75a79788-2409-473c-9076-4d6480889423",
   "metadata": {},
   "outputs": [
    {
     "name": "stdout",
     "output_type": "stream",
     "text": [
      "Saved cleaned dataset to ../data/processed/clean_telco.csv\n"
     ]
    }
   ],
   "source": [
    "df.to_csv(\"../data/processed/clean_telco.csv\", index=False)\n",
    "print(\"Saved cleaned dataset to ../data/processed/clean_telco.csv\")"
   ]
  }
 ],
 "metadata": {
  "kernelspec": {
   "display_name": "Python [conda env:base] *",
   "language": "python",
   "name": "conda-base-py"
  },
  "language_info": {
   "codemirror_mode": {
    "name": "ipython",
    "version": 3
   },
   "file_extension": ".py",
   "mimetype": "text/x-python",
   "name": "python",
   "nbconvert_exporter": "python",
   "pygments_lexer": "ipython3",
   "version": "3.12.7"
  }
 },
 "nbformat": 4,
 "nbformat_minor": 5
}
