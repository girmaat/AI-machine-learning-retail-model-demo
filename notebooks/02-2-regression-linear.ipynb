{
 "cells": [
  {
   "cell_type": "markdown",
   "id": "b4ae75c7-6b35-4277-b75d-39c67751956c",
   "metadata": {},
   "source": [
    "# Step 1: Import Libraries"
   ]
  },
  {
   "cell_type": "code",
   "execution_count": null,
   "id": "0c581e4e-2b1b-45a3-861c-77d06783d949",
   "metadata": {},
   "outputs": [],
   "source": [
    "import pandas as pd\n",
    "import numpy as np\n",
    "import matplotlib.pyplot as plt\n",
    "import seaborn as sns\n",
    "\n",
    "from sklearn.model_selection import train_test_split\n",
    "from sklearn.linear_model import LinearRegression  # Swap for any model\n",
    "from sklearn.metrics import mean_squared_error, r2_score  # Replace for classification"
   ]
  },
  {
   "cell_type": "markdown",
   "id": "19ee8127-f845-4f2f-8555-3b52b1d7e5e3",
   "metadata": {},
   "source": [
    "# Step 2: Load Dataset"
   ]
  },
  {
   "cell_type": "code",
   "execution_count": null,
   "id": "43eb2ddf-ad9b-481d-b09f-6c520739658e",
   "metadata": {},
   "outputs": [],
   "source": [
    "df = pd.read_csv(\"your_dataset.csv\")  # Update with your path\n",
    "df.head()"
   ]
  },
  {
   "cell_type": "markdown",
   "id": "959beace-c703-4623-9a9a-3f0d6fee90b6",
   "metadata": {},
   "source": [
    "# Step 3: Define Features (X) and Target (y)\n",
    "# Choose your input features and output label"
   ]
  },
  {
   "cell_type": "code",
   "execution_count": null,
   "id": "cb636fe1-286a-4d5f-a4c5-d69912501e1c",
   "metadata": {},
   "outputs": [],
   "source": [
    "X = df.drop(columns=[\"target_column\"])\n",
    "y = df[\"target_column\"]"
   ]
  },
  {
   "cell_type": "markdown",
   "id": "99fe9a7c-9333-4cac-9da6-2e32cb019fd3",
   "metadata": {},
   "source": [
    "# Step 4: Split Data"
   ]
  },
  {
   "cell_type": "code",
   "execution_count": null,
   "id": "6a56292d-68d0-4496-a99d-05b92c1dd5c8",
   "metadata": {},
   "outputs": [],
   "source": [
    "X_train, X_test, y_train, y_test = train_test_split(\n",
    "    X, y, test_size=0.2, random_state=42\n",
    ")"
   ]
  },
  {
   "cell_type": "markdown",
   "id": "e34f0655-e368-48e6-96b7-30406458b23b",
   "metadata": {},
   "source": [
    "# Step 5: Train the Model"
   ]
  },
  {
   "cell_type": "code",
   "execution_count": null,
   "id": "6f25e1a5-84ae-4bc5-bf99-b0f792a7802a",
   "metadata": {},
   "outputs": [],
   "source": [
    "model = LinearRegression()  # Replace with any model (e.g., LogisticRegression)\n",
    "model.fit(X_train, y_train)"
   ]
  },
  {
   "cell_type": "markdown",
   "id": "caf5082a-6720-4cac-9661-e71c4e0dd05f",
   "metadata": {},
   "source": [
    "# Step 6: Predict and Visualize (Regression Example)"
   ]
  },
  {
   "cell_type": "code",
   "execution_count": null,
   "id": "40d3c939-4b3f-4f68-90d5-c5b8c7086da0",
   "metadata": {},
   "outputs": [],
   "source": [
    "y_pred = model.predict(X_test)\n",
    "\n",
    "plt.figure(figsize=(8, 6))\n",
    "plt.scatter(y_test, y_pred, alpha=0.5)\n",
    "plt.plot([y.min(), y.max()], [y.min(), y.max()], 'r--')\n",
    "plt.xlabel(\"Actual\")\n",
    "plt.ylabel(\"Predicted\")\n",
    "plt.title(\"Actual vs. Predicted\")\n",
    "plt.grid(True)\n",
    "plt.show()"
   ]
  },
  {
   "cell_type": "code",
   "execution_count": null,
   "id": "99f215db-66a7-4366-a14d-700e58405e2d",
   "metadata": {},
   "outputs": [],
   "source": [
    "# 📊 Step 7: Evaluate Model Performance (Regression Metrics)"
   ]
  },
  {
   "cell_type": "markdown",
   "id": "5bed7896-3916-44d5-ae63-db5c235adaaf",
   "metadata": {},
   "source": [
    "print(\"Intercept:\", model.intercept_)\n",
    "print(\"Coefficients:\", model.coef_)\n",
    "print(\"MSE:\", mean_squared_error(y_test, y_pred))\n",
    "print(\"R² Score:\", r2_score(y_test, y_pred))"
   ]
  }
 ],
 "metadata": {
  "kernelspec": {
   "display_name": "Python (ml-retail)",
   "language": "python",
   "name": "ml-retail-venv"
  },
  "language_info": {
   "codemirror_mode": {
    "name": "ipython",
    "version": 3
   },
   "file_extension": ".py",
   "mimetype": "text/x-python",
   "name": "python",
   "nbconvert_exporter": "python",
   "pygments_lexer": "ipython3",
   "version": "3.12.3"
  }
 },
 "nbformat": 4,
 "nbformat_minor": 5
}
