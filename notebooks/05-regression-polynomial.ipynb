{
 "cells": [
  {
   "cell_type": "markdown",
   "id": "fbbd87b2-86ed-4bac-b3f8-31b89fe6cf42",
   "metadata": {},
   "source": [
    "# Step 1: Import Libraries"
   ]
  },
  {
   "cell_type": "code",
   "execution_count": null,
   "id": "71977a22-027d-4371-8861-628a0870e72f",
   "metadata": {},
   "outputs": [],
   "source": [
    "import pandas as pd\n",
    "import numpy as np\n",
    "import matplotlib.pyplot as plt\n",
    "from sklearn.preprocessing import PolynomialFeatures\n",
    "from sklearn.linear_model import LinearRegression\n",
    "from sklearn.model_selection import train_test_split\n",
    "from sklearn.pipeline import make_pipeline\n",
    "from sklearn.metrics import mean_squared_error, r2_score"
   ]
  },
  {
   "cell_type": "markdown",
   "id": "68a39394-d00b-4ae1-b197-138b19fa1170",
   "metadata": {},
   "source": [
    "# Step 2: Load Data"
   ]
  },
  {
   "cell_type": "code",
   "execution_count": null,
   "id": "c5a42720-10de-4a49-ac6c-20b09a2484f3",
   "metadata": {},
   "outputs": [],
   "source": [
    "df = pd.read_csv(\"../data/processed/clean_telco.csv\")\n",
    "df.head()"
   ]
  },
  {
   "cell_type": "markdown",
   "id": "fd57ece8-5f0b-46be-819a-d28f6da422f9",
   "metadata": {},
   "source": [
    "# Step 3: Select Features and Target - choose the input variables X and the output variable y"
   ]
  },
  {
   "cell_type": "code",
   "execution_count": null,
   "id": "d422adad-438c-4a01-94ba-5ad11f783920",
   "metadata": {},
   "outputs": [],
   "source": [
    "selected_features = ['tenure']\n",
    "X = df[selected_features]\n",
    "y = df['MonthlyCharges']"
   ]
  },
  {
   "cell_type": "markdown",
   "id": "a0b0bf38-9444-422f-8256-24472c534546",
   "metadata": {},
   "source": [
    "# Step 4: Train/Test Split - split data into training and testing sets to evaluate generalization."
   ]
  },
  {
   "cell_type": "code",
   "execution_count": null,
   "id": "8d88f9c6-0f04-4ce9-b31d-794324718b45",
   "metadata": {},
   "outputs": [],
   "source": [
    "X_train, X_test, y_train, y_test = train_test_split(\n",
    "    X, y, test_size=0.2, random_state=42\n",
    ")"
   ]
  },
  {
   "cell_type": "markdown",
   "id": "26200dea-858d-47dc-a2c6-1c6d3329a4d1",
   "metadata": {},
   "source": [
    "#  Step 5: Train the Polynomial Model - fit a pipeline that transforms features into polynomials and trains a model."
   ]
  },
  {
   "cell_type": "code",
   "execution_count": null,
   "id": "b8cc526b-4a19-4d70-b769-3767fa70c7c1",
   "metadata": {},
   "outputs": [],
   "source": [
    "degree = 3\n",
    "model = make_pipeline(PolynomialFeatures(degree), LinearRegression())\n",
    "model.fit(X_train, y_train)"
   ]
  },
  {
   "cell_type": "markdown",
   "id": "45b7956b-70bc-426b-8d6f-2e510aa51caf",
   "metadata": {},
   "source": [
    "# Step 6: Predict and Visualize - See how well the model fits the data by plotting predictions."
   ]
  },
  {
   "cell_type": "code",
   "execution_count": null,
   "id": "8d14e4b1-67b2-4155-abbb-8a48b703d5ec",
   "metadata": {},
   "outputs": [],
   "source": [
    "y_pred = model.predict(X_test)\n",
    "\n",
    "plt.figure(figsize=(8, 6))\n",
    "plt.scatter(X_test, y_test, color='blue', label='Actual')\n",
    "plt.scatter(X_test, y_pred, color='red', alpha=0.6, label='Predicted')\n",
    "plt.xlabel(\"Tenure\")\n",
    "plt.ylabel(\"Monthly Charges\")\n",
    "plt.title(f\"Polynomial Regression (Degree {degree})\")\n",
    "plt.legend()\n",
    "plt.grid(True)\n",
    "plt.show()"
   ]
  },
  {
   "cell_type": "markdown",
   "id": "246ab03c-e926-483c-8499-3682d58c3b2b",
   "metadata": {},
   "source": [
    "# Step 7: Evaluate the Model - Quantify how well the model is doing."
   ]
  },
  {
   "cell_type": "code",
   "execution_count": null,
   "id": "c021e13f-cb48-47c8-9354-6395036de32b",
   "metadata": {},
   "outputs": [],
   "source": [
    "mse = mean_squared_error(y_test, y_pred)\n",
    "r2 = r2_score(y_test, y_pred)\n",
    "\n",
    "print(\"Mean Squared Error:\", mse)\n",
    "print(\"R² Score:\", r2)"
   ]
  },
  {
   "cell_type": "markdown",
   "id": "0305963c-bbc1-4a6c-969d-f2eb86c0557e",
   "metadata": {},
   "source": []
  },
  {
   "cell_type": "code",
   "execution_count": null,
   "id": "b51658d2-db58-4e92-86d9-8f99c9739b2d",
   "metadata": {},
   "outputs": [],
   "source": []
  },
  {
   "cell_type": "markdown",
   "id": "2f213cec-e073-4de2-a645-8e8f706ebb93",
   "metadata": {},
   "source": []
  }
 ],
 "metadata": {
  "kernelspec": {
   "display_name": "Python [conda env:base] *",
   "language": "python",
   "name": "conda-base-py"
  },
  "language_info": {
   "codemirror_mode": {
    "name": "ipython",
    "version": 3
   },
   "file_extension": ".py",
   "mimetype": "text/x-python",
   "name": "python",
   "nbconvert_exporter": "python",
   "pygments_lexer": "ipython3",
   "version": "3.12.7"
  }
 },
 "nbformat": 4,
 "nbformat_minor": 5
}
