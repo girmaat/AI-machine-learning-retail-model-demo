{
 "cells": [
  {
   "cell_type": "markdown",
   "id": "03ecd322-268c-4837-b4dc-d17140b5a9c9",
   "metadata": {},
   "source": [
    "# Import libraries and Set display option"
   ]
  },
  {
   "cell_type": "code",
   "execution_count": 2,
   "id": "e3b311e3",
   "metadata": {},
   "outputs": [],
   "source": [
    "import pandas as pd\n",
    "import matplotlib.pyplot as plt\n",
    "import seaborn as sns\n",
    "\n",
    "# Set display option\n",
    "pd.set_option('display.float_format', lambda x: '%.2f' % x)"
   ]
  },
  {
   "cell_type": "markdown",
   "id": "544b59be-7602-483e-ab50-77290f3d067d",
   "metadata": {},
   "source": [
    "# Load the Telco Churn dataset"
   ]
  },
  {
   "cell_type": "code",
   "execution_count": null,
   "id": "a3387872-6e8f-46df-8a0d-944bfd85ec1f",
   "metadata": {},
   "outputs": [],
   "source": [
    "df = pd.read_csv(\"../data/raw/telco_churn.csv\")\n",
    "df.head()"
   ]
  },
  {
   "cell_type": "markdown",
   "id": "bba9da58-770b-4bc0-90f7-ba72531c175e",
   "metadata": {},
   "source": [
    "# Dataset Structure"
   ]
  },
  {
   "cell_type": "code",
   "execution_count": null,
   "id": "65b99cab-23c5-4080-b2d1-7cc08fae180f",
   "metadata": {},
   "outputs": [],
   "source": [
    "print(\"Shape:\", df.shape)\n",
    "print(\"Columns:\", df.columns.tolist())\n",
    "df.info()"
   ]
  },
  {
   "cell_type": "markdown",
   "id": "32de5bfb-b201-4acb-8cd5-a6c22d6a3d7e",
   "metadata": {},
   "source": [
    "# Check for missing values step 1: Detect These “Hidden” Missing Values"
   ]
  },
  {
   "cell_type": "code",
   "execution_count": null,
   "id": "c307f033-8ee6-48b9-a0f8-f6126a11ba82",
   "metadata": {},
   "outputs": [],
   "source": [
    "df['TotalCharges'].apply(lambda x: x.strip() == \"\").sum()"
   ]
  },
  {
   "cell_type": "markdown",
   "id": "f0de4216-3e0b-46f9-b04a-3858bc26d014",
   "metadata": {},
   "source": [
    "# Check for missing values step 2 Convert it"
   ]
  },
  {
   "cell_type": "code",
   "execution_count": 25,
   "id": "b3cebcd9-1bee-44dd-980d-f563000c2a26",
   "metadata": {},
   "outputs": [],
   "source": [
    "df['TotalCharges'] = pd.to_numeric(df['TotalCharges'], errors='coerce')"
   ]
  },
  {
   "cell_type": "markdown",
   "id": "1d3ec25a-246f-42c1-aee6-42e5ae13f703",
   "metadata": {},
   "source": [
    "# Check for missing values step 3: show missing values in TotalCharges"
   ]
  },
  {
   "cell_type": "code",
   "execution_count": null,
   "id": "548682e2-a828-4bcf-a7c2-d4eadbb98c64",
   "metadata": {},
   "outputs": [],
   "source": [
    "df.isnull().sum()"
   ]
  },
  {
   "cell_type": "markdown",
   "id": "e3675389-1f69-4de6-80a3-f2783655204a",
   "metadata": {},
   "source": [
    "# Target Variable: Churn. (e.g., 75% No, 25% Yes) helps guide model design"
   ]
  },
  {
   "cell_type": "code",
   "execution_count": null,
   "id": "7e4eaa89-6f03-4616-b6a8-486dd1bcff6d",
   "metadata": {},
   "outputs": [],
   "source": [
    "df['Churn'].value_counts()\n",
    "df['Churn'].value_counts(normalize=True)"
   ]
  },
  {
   "cell_type": "markdown",
   "id": "9b3f0300-6708-4395-a6e7-9e76c0b2cd51",
   "metadata": {},
   "source": [
    "# Monthly Charges Distribution"
   ]
  },
  {
   "cell_type": "code",
   "execution_count": null,
   "id": "325b4206-4452-4ff6-b699-8617dca44c9d",
   "metadata": {},
   "outputs": [],
   "source": [
    "df['MonthlyCharges'].hist(bins=30)"
   ]
  },
  {
   "cell_type": "markdown",
   "id": "51a49909-8e10-4fc9-925a-06b11244b818",
   "metadata": {},
   "source": [
    "# Feature Type"
   ]
  },
  {
   "cell_type": "code",
   "execution_count": 13,
   "id": "6008ca9f-0b65-455c-abc6-f211c224b186",
   "metadata": {},
   "outputs": [],
   "source": [
    "categorical = df.select_dtypes(include='object').columns\n",
    "numerical = df.select_dtypes(exclude='object').columns"
   ]
  },
  {
   "cell_type": "code",
   "execution_count": null,
   "id": "403a7d8e-d7bd-4b24-806b-feffd79f7a88",
   "metadata": {},
   "outputs": [],
   "source": [
    "df.describe()"
   ]
  },
  {
   "cell_type": "code",
   "execution_count": 22,
   "id": "7c8d8cc3-719d-42fd-8266-34419d11b77b",
   "metadata": {},
   "outputs": [
    {
     "data": {
      "text/plain": [
       "np.int64(11)"
      ]
     },
     "execution_count": 22,
     "metadata": {},
     "output_type": "execute_result"
    }
   ],
   "source": [
    "df['TotalCharges'].apply(lambda x: x.strip() == \"\").sum()"
   ]
  },
  {
   "cell_type": "code",
   "execution_count": null,
   "id": "ae3d8452-0758-48a5-830b-c91392e12c6f",
   "metadata": {},
   "outputs": [],
   "source": []
  }
 ],
 "metadata": {
  "kernelspec": {
   "display_name": "Python 3 (ipykernel)",
   "language": "python",
   "name": "python3"
  },
  "language_info": {
   "codemirror_mode": {
    "name": "ipython",
    "version": 3
   },
   "file_extension": ".py",
   "mimetype": "text/x-python",
   "name": "python",
   "nbconvert_exporter": "python",
   "pygments_lexer": "ipython3",
   "version": "3.12.3"
  }
 },
 "nbformat": 4,
 "nbformat_minor": 5
}
