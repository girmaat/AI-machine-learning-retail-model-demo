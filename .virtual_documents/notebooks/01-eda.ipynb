


import pandas as pd
import matplotlib.pyplot as plt
import seaborn as sns

# Set display option
pd.set_option('display.float_format', lambda x: '%.2f' % x)





df = pd.read_csv("../data/raw/telco_churn.csv")
df.head()





print("Shape:", df.shape)
print("Columns:", df.columns.tolist())
df.info()





df['TotalCharges'].apply(lambda x: x.strip() == "").sum()





df['TotalCharges'] = pd.to_numeric(df['TotalCharges'], errors='coerce')





df.isnull().sum()





df['Churn'].value_counts()
df['Churn'].value_counts(normalize=True)





df['MonthlyCharges'].hist(bins=30)





categorical = df.select_dtypes(include='object').columns
numerical = df.select_dtypes(exclude='object').columns


df.describe()


df['TotalCharges'].apply(lambda x: x.strip() == "").sum()



