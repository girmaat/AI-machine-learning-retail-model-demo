


import pandas as pd
import matplotlib.pyplot as plt
from sklearn.linear_model import LinearRegression
from sklearn.metrics import mean_squared_error, r2_score
from sklearn.model_selection import train_test_split





df = pd.read_csv("../data/processed/clean_telco.csv")
df[['tenure', 'MonthlyCharges']].describe()





X = df[['tenure']]  # must be 2D
y = df['MonthlyCharges']





X_train, X_test, y_train, y_test = train_test_split(
    X, y, test_size=0.2, random_state=42
)





print("🔹 X_train sample:")
print(X_train.head())

print("\n🔹 y_train sample:")
print(y_train.head())

# Check X_test and y_test as well
print("\n🔸 X_test sample:")
print(X_test.head())

print("\n🔸 y_test sample:")
print(y_test.head())






model = LinearRegression()
model.fit(X_train, y_train)





y_pred = model.predict(X_test)


plt.figure(figsize=(8, 6))
plt.scatter(X_test, y_test, color="blue", label="Actual", alpha=0.5)
plt.plot(X_test, y_pred, color="red", linewidth=2, label="Prediction")
plt.title("Linear Regression: Predicting MonthlyCharges from Tenure")
plt.xlabel("Tenure (months)")
plt.ylabel("Monthly Charges ($)")
plt.legend()
plt.grid(True)
plt.show()





from sklearn.metrics import mean_squared_error, r2_score

print("Intercept (θ₀):", model.intercept_)
print("Coefficient (θ₁):", model.coef_[0])

print("Mean Squared Error (MSE):", mean_squared_error(y_test, y_pred))
print("R² Score:", r2_score(y_test, y_pred))
