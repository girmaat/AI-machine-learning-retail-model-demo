# Data Clean up


import pandas as pd
from sklearn.preprocessing import StandardScaler

# Load dataset
df = pd.read_csv("../data/raw/telco_churn.csv")





df.drop(columns=['customerID'], inplace=True)





df['TotalCharges'] = pd.to_numeric(df['TotalCharges'], errors='coerce')
missing_count = df['TotalCharges'].isnull().sum()
print(f"Missing values in TotalCharges: {missing_count}")
df.dropna(subset=['TotalCharges'], inplace=True)





df['Churn'] = df['Churn'].map({'Yes': 1, 'No': 0})





categorical_cols = df.select_dtypes(include='object').columns.tolist()
df = pd.get_dummies(df, columns=categorical_cols, drop_first=True)





scaler = StandardScaler()
numerical_cols = ['tenure', 'MonthlyCharges', 'TotalCharges']
df[numerical_cols] = scaler.fit_transform(df[numerical_cols])





df.to_csv("../data/processed/clean_telco.csv", index=False)
print("Saved cleaned dataset to ../data/processed/clean_telco.csv")
