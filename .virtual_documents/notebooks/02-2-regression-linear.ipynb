


import pandas as pd
import numpy as np
import matplotlib.pyplot as plt
import seaborn as sns

from sklearn.model_selection import train_test_split
from sklearn.linear_model import LinearRegression  # Swap for any model
from sklearn.metrics import mean_squared_error, r2_score  # Replace for classification





df = pd.read_csv("your_dataset.csv")  # Update with your path
df.head()





X = df.drop(columns=["target_column"])
y = df["target_column"]





X_train, X_test, y_train, y_test = train_test_split(
    X, y, test_size=0.2, random_state=42
)





model = LinearRegression()  # Replace with any model (e.g., LogisticRegression)
model.fit(X_train, y_train)





y_pred = model.predict(X_test)

plt.figure(figsize=(8, 6))
plt.scatter(y_test, y_pred, alpha=0.5)
plt.plot([y.min(), y.max()], [y.min(), y.max()], 'r--')
plt.xlabel("Actual")
plt.ylabel("Predicted")
plt.title("Actual vs. Predicted")
plt.grid(True)
plt.show()












